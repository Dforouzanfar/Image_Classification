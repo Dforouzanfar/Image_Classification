{
  "nbformat": 4,
  "nbformat_minor": 0,
  "metadata": {
    "colab": {
      "provenance": [],
      "authorship_tag": "ABX9TyOZsI4tPPriy9cIjx5NV5rS",
      "include_colab_link": true
    },
    "kernelspec": {
      "name": "python3",
      "display_name": "Python 3"
    },
    "language_info": {
      "name": "python"
    }
  },
  "cells": [
    {
      "cell_type": "markdown",
      "metadata": {
        "id": "view-in-github",
        "colab_type": "text"
      },
      "source": [
        "<a href=\"https://colab.research.google.com/github/Dforouzanfar/ML_Unimi_2024/blob/master/muffin_chihuahua.ipynb\" target=\"_parent\"><img src=\"https://colab.research.google.com/assets/colab-badge.svg\" alt=\"Open In Colab\"/></a>"
      ]
    },
    {
      "cell_type": "code",
      "execution_count": null,
      "metadata": {
        "id": "iYNzKlCT6b8z"
      },
      "outputs": [],
      "source": [
        "import os\n",
        "import requests\n",
        "import zipfile\n",
        "from pathlib import Path"
      ]
    },
    {
      "cell_type": "code",
      "source": [
        "# If you want to download the dataset, you should insert your own credentials.\n",
        "\n",
        "os.environ['KAGGLE_USERNAME'] = \"**\"\n",
        "os.environ['KAGGLE_KEY'] = \"**\""
      ],
      "metadata": {
        "id": "T5fAOp5M6cns"
      },
      "execution_count": null,
      "outputs": []
    },
    {
      "cell_type": "code",
      "source": [
        "# Setup path to a data folder\n",
        "data_path = Path(\"data/\")\n",
        "image_path = data_path / \"muffin_chihuahua\"\n",
        "\n",
        "# If the image folder doesn't exist, download it and prepare it...\n",
        "if image_path.is_dir():\n",
        "  pass\n",
        "else:\n",
        "  image_path.mkdir(parents=True, exist_ok=True)\n",
        "\n",
        "# Download dataset\n",
        "os.chdir(data_path)\n",
        "!kaggle datasets download -d samuelcortinhas/muffin-vs-chihuahua-image-classification\n",
        "\n",
        "os.chdir(\"/content/\")\n",
        "with zipfile.ZipFile(\"/content/data/muffin-vs-chihuahua-image-classification.zip\", \"r\") as zip_ref:\n",
        "  print(\"Unzipping\")\n",
        "  zip_ref.extractall(image_path)"
      ],
      "metadata": {
        "colab": {
          "base_uri": "https://localhost:8080/"
        },
        "id": "yRQXLhyB6f5d",
        "outputId": "b771f232-b963-4345-c5ef-bf4f9be336aa"
      },
      "execution_count": null,
      "outputs": [
        {
          "output_type": "stream",
          "name": "stdout",
          "text": [
            "Dataset URL: https://www.kaggle.com/datasets/samuelcortinhas/muffin-vs-chihuahua-image-classification\n",
            "License(s): CC0-1.0\n",
            "Downloading muffin-vs-chihuahua-image-classification.zip to /content/data\n",
            " 98% 464M/474M [00:02<00:00, 198MB/s]\n",
            "100% 474M/474M [00:02<00:00, 204MB/s]\n",
            "Unzipping\n"
          ]
        }
      ]
    },
    {
      "cell_type": "code",
      "source": [],
      "metadata": {
        "id": "2eVbYVwu6if1"
      },
      "execution_count": null,
      "outputs": []
    }
  ]
}